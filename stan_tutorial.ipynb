{
 "cells": [
  {
   "cell_type": "code",
   "execution_count": 1,
   "metadata": {},
   "outputs": [],
   "source": [
    "import sklearn\n",
    "from sklearn.datasets import load_boston\n",
    "from sklearn.model_selection import train_test_split\n",
    "import pandas as pd\n",
    "import numpy as np\n",
    "import pystan as ps"
   ]
  },
  {
   "cell_type": "markdown",
   "metadata": {},
   "source": [
    "# Tutorial using Boston data"
   ]
  },
  {
   "cell_type": "code",
   "execution_count": 2,
   "metadata": {},
   "outputs": [],
   "source": [
    "Boston = load_boston()\n",
    "X = Boston.data\n",
    "y = Boston.target\n",
    "# 学習用・検証用にデータを分割\n",
    "X_train, X_test, y_train, y_test = train_test_split(X, y, test_size = 0.2)"
   ]
  },
  {
   "cell_type": "code",
   "execution_count": 16,
   "metadata": {},
   "outputs": [
    {
     "data": {
      "text/plain": [
       "array([[6.3200e-03, 1.8000e+01, 2.3100e+00, ..., 1.5300e+01, 3.9690e+02,\n",
       "        4.9800e+00],\n",
       "       [2.7310e-02, 0.0000e+00, 7.0700e+00, ..., 1.7800e+01, 3.9690e+02,\n",
       "        9.1400e+00],\n",
       "       [2.7290e-02, 0.0000e+00, 7.0700e+00, ..., 1.7800e+01, 3.9283e+02,\n",
       "        4.0300e+00],\n",
       "       ...,\n",
       "       [6.0760e-02, 0.0000e+00, 1.1930e+01, ..., 2.1000e+01, 3.9690e+02,\n",
       "        5.6400e+00],\n",
       "       [1.0959e-01, 0.0000e+00, 1.1930e+01, ..., 2.1000e+01, 3.9345e+02,\n",
       "        6.4800e+00],\n",
       "       [4.7410e-02, 0.0000e+00, 1.1930e+01, ..., 2.1000e+01, 3.9690e+02,\n",
       "        7.8800e+00]])"
      ]
     },
     "execution_count": 16,
     "metadata": {},
     "output_type": "execute_result"
    }
   ],
   "source": [
    "X"
   ]
  },
  {
   "cell_type": "code",
   "execution_count": 3,
   "metadata": {},
   "outputs": [
    {
     "data": {
      "text/plain": [
       "404"
      ]
     },
     "execution_count": 3,
     "metadata": {},
     "output_type": "execute_result"
    }
   ],
   "source": [
    "X_train.shape[0]"
   ]
  },
  {
   "cell_type": "markdown",
   "metadata": {},
   "source": [
    "# stan(data,parameters,modelの3つの情報を渡す必要がある)\n",
    "# model : $y_i$ ~ $norm(\\beta_0 + \\beta \\boldsymbol[X]^i + \\epsilon)$"
   ]
  },
  {
   "cell_type": "code",
   "execution_count": 4,
   "metadata": {},
   "outputs": [],
   "source": [
    "# データをpythonからStanに渡す。辞書型で変数名を付けて引き渡す。\n",
    "# X_train.shape[0] = 行数（サンプルサイズ）　X_train.shape[1] = 特徴量＋目的変数の数\n",
    "dat = {'N': X_train.shape[0], 'M': X_train.shape[1], 'X': X_train, 'y': y_train}"
   ]
  },
  {
   "cell_type": "code",
   "execution_count": 5,
   "metadata": {},
   "outputs": [],
   "source": [
    "# Stanコード\n",
    "\"\"\"\n",
    "Stanのコードは大まかに以下の3つの部分に分かれています。\n",
    "\n",
    "data\n",
    "データの型などを定義します。配列の長さを明示的に指定（データ数Nや特徴量の数M）するのが地味に大事です。RやPythonを使っていると忘れがちになりますが、StanはC++がベースなので、ちゃんとメモリ領域を人間が指定する必要があります。説明変数が多いときは、matrixで与えるとコードがすっきりします。\n",
    "parameters\n",
    "推定するパラメータを定義します。ここも説明変数が多いときは、vectorで係数を与えるとコードがすっきりします。\n",
    "model\n",
    "統計モデルを定義します。今回は目的変数がMEDV（y）, 説明変数が他すべてで、残差が正規分布に従うとした場合の正規線形モデルを考えています。\n",
    "dataやparameterでmatrixやvectorで定義した場合は、各レコードに関して係数とデータの内積（dot_product）をとり、for文で回す、とするとすっきりモデル式が書けます。\n",
    "\"\"\"\n",
    "\n",
    "\"\"\"\n",
    "記法\n",
    "行末に;をつける。\n",
    "コメントアウトは//\n",
    "\"\"\"\n",
    "model = \"\"\"\n",
    "    data {\n",
    "        int<lower=0> N; //変数N－int型で最小値は0\n",
    "        int<lower=0> M; //変数M－int型で最小値は0\n",
    "        matrix[N, M] X; //変数X-matrix型でN行M列である配列\n",
    "        vector[N] y; //変数y-vector型でN行であるベクトル\n",
    "    }\n",
    "    parameters { \n",
    "        real beta_0; //変数beta_0-real型_実数型\n",
    "        vector[M] beta; //変数beta-vector型でM行のベクトル。特徴量M個分のパラメータ\n",
    "        real<lower=0> sigma; //変数sigma-real型で最小値は0\n",
    "    }\n",
    "    model { \n",
    "        for (i in 1:N)\n",
    "            y[i] ~ normal(beta_0 + dot_product(X[i] , beta), sigma);\n",
    "    }\n",
    "\"\"\""
   ]
  },
  {
   "cell_type": "code",
   "execution_count": 6,
   "metadata": {},
   "outputs": [
    {
     "name": "stderr",
     "output_type": "stream",
     "text": [
      "INFO:pystan:COMPILING THE C++ CODE FOR MODEL anon_model_b321a48651c552594cc5636330ed35fa NOW.\n"
     ]
    },
    {
     "name": "stdout",
     "output_type": "stream",
     "text": [
      "Wall time: 0 ns\n"
     ]
    }
   ],
   "source": [
    "%time \n",
    "stm = ps.StanModel(model_code=model)\n",
    "\n",
    "# # 計算時間\n",
    "# CPU times: user 1.11 s, sys: 64 ms, total: 1.18 s\n",
    "# Wall time: 1min 21s"
   ]
  },
  {
   "cell_type": "code",
   "execution_count": 7,
   "metadata": {},
   "outputs": [
    {
     "name": "stdout",
     "output_type": "stream",
     "text": [
      "Wall time: 5min 31s\n"
     ]
    }
   ],
   "source": [
    "n_itr = 5000\n",
    "n_warmup = 1000\n",
    "chains = 2\n",
    "\n",
    "# サンプリングの実行\n",
    "%time fit = stm.sampling(data=dat, iter=n_itr, chains=chains, n_jobs=-1, warmup=n_warmup, algorithm=\"NUTS\", verbose=False)"
   ]
  },
  {
   "cell_type": "code",
   "execution_count": 8,
   "metadata": {},
   "outputs": [
    {
     "data": {
      "text/plain": [
       "Inference for Stan model: anon_model_b321a48651c552594cc5636330ed35fa.\n",
       "2 chains, each with iter=5000; warmup=1000; thin=1; \n",
       "post-warmup draws per chain=4000, total post-warmup draws=8000.\n",
       "\n",
       "            mean se_mean     sd   2.5%    25%     50%    75%   97.5%  n_eff   Rhat\n",
       "beta_0     40.99     0.1   5.51   30.2  37.29   40.99  44.71   51.88   3243    1.0\n",
       "beta[1]    -0.12  3.5e-4   0.03  -0.18  -0.14   -0.12   -0.1   -0.06   8854    1.0\n",
       "beta[2]     0.04  1.9e-4   0.02   0.01   0.03    0.04   0.05    0.07   6675    1.0\n",
       "beta[3]    -0.03  8.5e-4   0.07  -0.17  -0.08   -0.03   0.02    0.11   6782    1.0\n",
       "beta[4]      2.8    0.01   1.04   0.75   2.11     2.8   3.49    4.84  10028    1.0\n",
       "beta[5]   -16.31    0.06    4.2 -24.59 -19.16  -16.32 -13.45   -8.05   5744    1.0\n",
       "beta[6]     3.21  7.1e-3   0.45   2.34   2.91    3.21   3.51    4.09   4030    1.0\n",
       "beta[7]  -5.0e-3  1.7e-4   0.01  -0.03  -0.01 -5.1e-3 4.7e-3    0.02   7297    1.0\n",
       "beta[8]    -1.46  2.8e-3   0.22  -1.89   -1.6   -1.46  -1.31   -1.04   5909    1.0\n",
       "beta[9]     0.36  1.0e-3   0.07   0.21   0.31    0.36   0.41     0.5   5079    1.0\n",
       "beta[10]   -0.02  5.5e-5 4.1e-3  -0.02  -0.02   -0.02  -0.01 -7.6e-3   5680    1.0\n",
       "beta[11]   -0.94  2.1e-3   0.14  -1.22  -1.04   -0.94  -0.84   -0.66   4942    1.0\n",
       "beta[12]  7.6e-3  2.6e-5 3.1e-3 1.5e-3 5.5e-3  7.6e-3 9.7e-3    0.01  14800    1.0\n",
       "beta[13]   -0.48  7.3e-4   0.05  -0.59  -0.52   -0.48  -0.45   -0.38   5575    1.0\n",
       "sigma       4.72  1.7e-3   0.17    4.4    4.6    4.71   4.83    5.06   9442    1.0\n",
       "lp__      -826.3    0.05   2.78 -832.7 -827.9  -826.0 -824.3  -821.9   3439    1.0\n",
       "\n",
       "Samples were drawn using NUTS at Sat Mar 14 22:57:46 2020.\n",
       "For each parameter, n_eff is a crude measure of effective sample size,\n",
       "and Rhat is the potential scale reduction factor on split chains (at \n",
       "convergence, Rhat=1)."
      ]
     },
     "execution_count": 8,
     "metadata": {},
     "output_type": "execute_result"
    }
   ],
   "source": [
    "fit"
   ]
  },
  {
   "cell_type": "markdown",
   "metadata": {},
   "source": [
    "# Tutorial2 space model with local level"
   ]
  },
  {
   "cell_type": "code",
   "execution_count": 12,
   "metadata": {},
   "outputs": [],
   "source": [
    "# for observed\n",
    "n_sample = 100\n",
    "y = np.zeros(n_sample)\n",
    "\n",
    "# initial param for mu\n",
    "mu_zero = 100\n",
    "# mu\n",
    "mu = np.zeros(n_sample)\n",
    "#sigma w\n",
    "s_w = 1000\n",
    "# sigma v\n",
    "s_v = 5000"
   ]
  },
  {
   "cell_type": "code",
   "execution_count": 14,
   "metadata": {},
   "outputs": [],
   "source": [
    "mu[1] = np.random.normal(\n",
    "loc = mu_zero,\n",
    "scale = np.sqrt(s_v),\n",
    "size = 1)"
   ]
  },
  {
   "cell_type": "code",
   "execution_count": 15,
   "metadata": {},
   "outputs": [
    {
     "data": {
      "text/plain": [
       "array([  0.        , 201.44955687,   0.        ,   0.        ,\n",
       "         0.        ,   0.        ,   0.        ,   0.        ,\n",
       "         0.        ,   0.        ,   0.        ,   0.        ,\n",
       "         0.        ,   0.        ,   0.        ,   0.        ,\n",
       "         0.        ,   0.        ,   0.        ,   0.        ,\n",
       "         0.        ,   0.        ,   0.        ,   0.        ,\n",
       "         0.        ,   0.        ,   0.        ,   0.        ,\n",
       "         0.        ,   0.        ,   0.        ,   0.        ,\n",
       "         0.        ,   0.        ,   0.        ,   0.        ,\n",
       "         0.        ,   0.        ,   0.        ,   0.        ,\n",
       "         0.        ,   0.        ,   0.        ,   0.        ,\n",
       "         0.        ,   0.        ,   0.        ,   0.        ,\n",
       "         0.        ,   0.        ,   0.        ,   0.        ,\n",
       "         0.        ,   0.        ,   0.        ,   0.        ,\n",
       "         0.        ,   0.        ,   0.        ,   0.        ,\n",
       "         0.        ,   0.        ,   0.        ,   0.        ,\n",
       "         0.        ,   0.        ,   0.        ,   0.        ,\n",
       "         0.        ,   0.        ,   0.        ,   0.        ,\n",
       "         0.        ,   0.        ,   0.        ,   0.        ,\n",
       "         0.        ,   0.        ,   0.        ,   0.        ,\n",
       "         0.        ,   0.        ,   0.        ,   0.        ,\n",
       "         0.        ,   0.        ,   0.        ,   0.        ,\n",
       "         0.        ,   0.        ,   0.        ,   0.        ,\n",
       "         0.        ,   0.        ,   0.        ,   0.        ,\n",
       "         0.        ,   0.        ,   0.        ,   0.        ])"
      ]
     },
     "execution_count": 15,
     "metadata": {},
     "output_type": "execute_result"
    }
   ],
   "source": [
    "mu"
   ]
  },
  {
   "cell_type": "code",
   "execution_count": null,
   "metadata": {},
   "outputs": [],
   "source": []
  }
 ],
 "metadata": {
  "kernelspec": {
   "display_name": "Python 3",
   "language": "python",
   "name": "python3"
  },
  "language_info": {
   "codemirror_mode": {
    "name": "ipython",
    "version": 3
   },
   "file_extension": ".py",
   "mimetype": "text/x-python",
   "name": "python",
   "nbconvert_exporter": "python",
   "pygments_lexer": "ipython3",
   "version": "3.7.3"
  }
 },
 "nbformat": 4,
 "nbformat_minor": 2
}
